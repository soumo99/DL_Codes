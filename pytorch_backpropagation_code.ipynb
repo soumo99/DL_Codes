{
 "cells": [
  {
   "cell_type": "markdown",
   "id": "8b0ffc3e",
   "metadata": {},
   "source": [
    "# Implementing Backpropagation using Pytorch"
   ]
  },
  {
   "cell_type": "code",
   "execution_count": 1,
   "id": "047faacc",
   "metadata": {},
   "outputs": [],
   "source": [
    "import torch"
   ]
  },
  {
   "cell_type": "code",
   "execution_count": 2,
   "id": "3077b174",
   "metadata": {},
   "outputs": [],
   "source": [
    "'''requires_grad: This member, if true starts tracking all the operation history and forms a backward graph\n",
    "for gradient calculation  and If requires_grad is set to false, you are freezing the part of the model as no changes \n",
    "happen to its parameters.'''\n",
    "#reuqires_grad = True ------> indicates that yes we have to do the backpropagation using the torch input \n",
    "x = torch.tensor(4.0,requires_grad = True)"
   ]
  },
  {
   "cell_type": "code",
   "execution_count": 3,
   "id": "8931af56",
   "metadata": {},
   "outputs": [
    {
     "data": {
      "text/plain": [
       "tensor(4., requires_grad=True)"
      ]
     },
     "execution_count": 3,
     "metadata": {},
     "output_type": "execute_result"
    }
   ],
   "source": [
    "x"
   ]
  },
  {
   "cell_type": "code",
   "execution_count": 4,
   "id": "484da81d",
   "metadata": {},
   "outputs": [],
   "source": [
    "y = x**2"
   ]
  },
  {
   "cell_type": "code",
   "execution_count": 5,
   "id": "66f18adf",
   "metadata": {},
   "outputs": [
    {
     "data": {
      "text/plain": [
       "tensor(16., grad_fn=<PowBackward0>)"
      ]
     },
     "execution_count": 5,
     "metadata": {},
     "output_type": "execute_result"
    }
   ],
   "source": [
    "y"
   ]
  },
  {
   "cell_type": "code",
   "execution_count": 6,
   "id": "be188ff4",
   "metadata": {},
   "outputs": [],
   "source": [
    "#Implementing backpropagation"
   ]
  },
  {
   "cell_type": "code",
   "execution_count": 7,
   "id": "370c2e47",
   "metadata": {},
   "outputs": [],
   "source": [
    "#backward function mainly helps in backpropagation , y = 2x\n",
    "y.backward()"
   ]
  },
  {
   "cell_type": "code",
   "execution_count": 8,
   "id": "0dc5463c",
   "metadata": {},
   "outputs": [
    {
     "name": "stdout",
     "output_type": "stream",
     "text": [
      "tensor(8.)\n"
     ]
    }
   ],
   "source": [
    "print(x.grad)"
   ]
  },
  {
   "cell_type": "code",
   "execution_count": 9,
   "id": "54af1af9",
   "metadata": {},
   "outputs": [],
   "source": [
    "lst = [[1.,2.,3.],[2.,3.,4.],[1.,3.,5.]]\n",
    "torch_input = torch.tensor(lst,requires_grad = True)"
   ]
  },
  {
   "cell_type": "code",
   "execution_count": 10,
   "id": "55d57fe2",
   "metadata": {},
   "outputs": [
    {
     "data": {
      "text/plain": [
       "tensor([[1., 2., 3.],\n",
       "        [2., 3., 4.],\n",
       "        [1., 3., 5.]], requires_grad=True)"
      ]
     },
     "execution_count": 10,
     "metadata": {},
     "output_type": "execute_result"
    }
   ],
   "source": [
    "torch_input"
   ]
  },
  {
   "cell_type": "code",
   "execution_count": 11,
   "id": "34def8ad",
   "metadata": {},
   "outputs": [],
   "source": [
    "# equation  => y = x**3 + x**2 (after one backpropagation we will compute the derivative)\n",
    "# => 3x**2 + 2x\n",
    "y = torch_input**3 + torch_input**2\n"
   ]
  },
  {
   "cell_type": "code",
   "execution_count": 12,
   "id": "631cf247",
   "metadata": {},
   "outputs": [
    {
     "data": {
      "text/plain": [
       "tensor([[  2.,  12.,  36.],\n",
       "        [ 12.,  36.,  80.],\n",
       "        [  2.,  36., 150.]], grad_fn=<AddBackward0>)"
      ]
     },
     "execution_count": 12,
     "metadata": {},
     "output_type": "execute_result"
    }
   ],
   "source": [
    "y"
   ]
  },
  {
   "cell_type": "code",
   "execution_count": 13,
   "id": "80a297c1",
   "metadata": {},
   "outputs": [],
   "source": [
    "z = y.sum()"
   ]
  },
  {
   "cell_type": "code",
   "execution_count": 14,
   "id": "737b3b4f",
   "metadata": {},
   "outputs": [
    {
     "data": {
      "text/plain": [
       "tensor(366., grad_fn=<SumBackward0>)"
      ]
     },
     "execution_count": 14,
     "metadata": {},
     "output_type": "execute_result"
    }
   ],
   "source": [
    "z"
   ]
  },
  {
   "cell_type": "code",
   "execution_count": 15,
   "id": "58f06091",
   "metadata": {},
   "outputs": [],
   "source": [
    "z.backward()"
   ]
  },
  {
   "cell_type": "code",
   "execution_count": 16,
   "id": "388de8e6",
   "metadata": {},
   "outputs": [
    {
     "name": "stdout",
     "output_type": "stream",
     "text": [
      "tensor([[ 5., 16., 33.],\n",
      "        [16., 33., 56.],\n",
      "        [ 5., 33., 85.]])\n"
     ]
    }
   ],
   "source": [
    "print(torch_input.grad)"
   ]
  },
  {
   "cell_type": "code",
   "execution_count": null,
   "id": "01a6e0bb",
   "metadata": {},
   "outputs": [],
   "source": []
  }
 ],
 "metadata": {
  "kernelspec": {
   "display_name": "Python 3 (ipykernel)",
   "language": "python",
   "name": "python3"
  },
  "language_info": {
   "codemirror_mode": {
    "name": "ipython",
    "version": 3
   },
   "file_extension": ".py",
   "mimetype": "text/x-python",
   "name": "python",
   "nbconvert_exporter": "python",
   "pygments_lexer": "ipython3",
   "version": "3.8.13"
  }
 },
 "nbformat": 4,
 "nbformat_minor": 5
}
