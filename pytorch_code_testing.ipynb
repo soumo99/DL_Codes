{
 "cells": [
  {
   "cell_type": "markdown",
   "id": "e13b915b",
   "metadata": {},
   "source": [
    "# PYTORCH CODE TUTORIAL"
   ]
  },
  {
   "cell_type": "code",
   "execution_count": 1,
   "id": "3d305c1c",
   "metadata": {},
   "outputs": [
    {
     "data": {
      "text/plain": [
       "'\\nA Tensor is a generalization of vectors and matrices and is easily understood as a multi-dimensional array\\nIt is a term and set of techniques in machine learning in the training and operation of deep learning models \\ncan be described in terms of tensors. In many cases tensors are used as a replacement for NumPy to use \\nthe power of GPUs\\nTensors are a type of data structure used in linear algebra and like vectors and matrices we can \\ncalculate arithmetic operations with tensors .'"
      ]
     },
     "execution_count": 1,
     "metadata": {},
     "output_type": "execute_result"
    }
   ],
   "source": [
    "'''\n",
    "A Tensor is a generalization of vectors and matrices and is easily understood as a multi-dimensional array\n",
    "It is a term and set of techniques in machine learning in the training and operation of deep learning models \n",
    "can be described in terms of tensors. In many cases tensors are used as a replacement for NumPy to use \n",
    "the power of GPUs\n",
    "Tensors are a type of data structure used in linear algebra and like vectors and matrices we can \n",
    "calculate arithmetic operations with tensors .'''"
   ]
  },
  {
   "cell_type": "code",
   "execution_count": 2,
   "id": "66c579f1",
   "metadata": {},
   "outputs": [
    {
     "name": "stdout",
     "output_type": "stream",
     "text": [
      "Requirement already satisfied: torch in /Users/soumobratamanna/Documents/Data_Science_Projects/tensorflow-test/env/lib/python3.8/site-packages (1.12.1)\n",
      "Requirement already satisfied: typing-extensions in /Users/soumobratamanna/Documents/Data_Science_Projects/tensorflow-test/env/lib/python3.8/site-packages (from torch) (4.3.0)\n",
      "Note: you may need to restart the kernel to use updated packages.\n"
     ]
    }
   ],
   "source": [
    "pip install torch "
   ]
  },
  {
   "cell_type": "code",
   "execution_count": 3,
   "id": "fcd0399b",
   "metadata": {},
   "outputs": [],
   "source": [
    "import torch"
   ]
  },
  {
   "cell_type": "code",
   "execution_count": 4,
   "id": "83480971",
   "metadata": {},
   "outputs": [
    {
     "data": {
      "text/plain": [
       "'1.12.1'"
      ]
     },
     "execution_count": 4,
     "metadata": {},
     "output_type": "execute_result"
    }
   ],
   "source": [
    "torch.__version__ "
   ]
  },
  {
   "cell_type": "code",
   "execution_count": 5,
   "id": "6f97ec0e",
   "metadata": {},
   "outputs": [],
   "source": [
    "import numpy as np"
   ]
  },
  {
   "cell_type": "code",
   "execution_count": 6,
   "id": "b1cb2b6a",
   "metadata": {},
   "outputs": [],
   "source": [
    "#list , changing into numpy array\n",
    "lst = [1,2,3,4]\n",
    "arr = np.array(lst)"
   ]
  },
  {
   "cell_type": "code",
   "execution_count": 7,
   "id": "6bfbc217",
   "metadata": {},
   "outputs": [
    {
     "data": {
      "text/plain": [
       "array([1, 2, 3, 4])"
      ]
     },
     "execution_count": 7,
     "metadata": {},
     "output_type": "execute_result"
    }
   ],
   "source": [
    "arr"
   ]
  },
  {
   "cell_type": "markdown",
   "id": "f7a53bf1",
   "metadata": {},
   "source": [
    "# Converting numpy array to pytorch tensors"
   ]
  },
  {
   "cell_type": "code",
   "execution_count": 8,
   "id": "668ab454",
   "metadata": {},
   "outputs": [],
   "source": [
    "tensors = torch.from_numpy(arr)\n"
   ]
  },
  {
   "cell_type": "code",
   "execution_count": 9,
   "id": "4da8be07",
   "metadata": {},
   "outputs": [
    {
     "data": {
      "text/plain": [
       "tensor([1, 2, 3, 4])"
      ]
     },
     "execution_count": 9,
     "metadata": {},
     "output_type": "execute_result"
    }
   ],
   "source": [
    "tensors"
   ]
  },
  {
   "cell_type": "code",
   "execution_count": 10,
   "id": "13f58fa7",
   "metadata": {},
   "outputs": [
    {
     "data": {
      "text/plain": [
       "tensor([1, 2])"
      ]
     },
     "execution_count": 10,
     "metadata": {},
     "output_type": "execute_result"
    }
   ],
   "source": [
    "#indexing\n",
    "tensors[:2]"
   ]
  },
  {
   "cell_type": "code",
   "execution_count": 11,
   "id": "e1cca6c7",
   "metadata": {},
   "outputs": [],
   "source": [
    "tensors[3] = 100\n"
   ]
  },
  {
   "cell_type": "code",
   "execution_count": 12,
   "id": "b8c7e1cb",
   "metadata": {},
   "outputs": [
    {
     "data": {
      "text/plain": [
       "tensor([  1,   2,   3, 100])"
      ]
     },
     "execution_count": 12,
     "metadata": {},
     "output_type": "execute_result"
    }
   ],
   "source": [
    "tensors"
   ]
  },
  {
   "cell_type": "code",
   "execution_count": 13,
   "id": "4fd3e4a6",
   "metadata": {},
   "outputs": [
    {
     "data": {
      "text/plain": [
       "array([  1,   2,   3, 100])"
      ]
     },
     "execution_count": 13,
     "metadata": {},
     "output_type": "execute_result"
    }
   ],
   "source": [
    "arr"
   ]
  },
  {
   "cell_type": "code",
   "execution_count": 14,
   "id": "b1bb24f3",
   "metadata": {},
   "outputs": [],
   "source": [
    "#Disadvantages of from_numpy is that it uses the same memory location \n"
   ]
  },
  {
   "cell_type": "code",
   "execution_count": 15,
   "id": "2314011c",
   "metadata": {},
   "outputs": [],
   "source": [
    "#This can be prevented by using torch.tensors"
   ]
  },
  {
   "cell_type": "code",
   "execution_count": 16,
   "id": "59aebdb7",
   "metadata": {},
   "outputs": [],
   "source": [
    "tensor_arr = torch.tensor(arr)"
   ]
  },
  {
   "cell_type": "code",
   "execution_count": 17,
   "id": "a0e802e5",
   "metadata": {},
   "outputs": [],
   "source": [
    "tensor_arr[3] = 120"
   ]
  },
  {
   "cell_type": "code",
   "execution_count": 18,
   "id": "f083035e",
   "metadata": {},
   "outputs": [
    {
     "data": {
      "text/plain": [
       "tensor([  1,   2,   3, 120])"
      ]
     },
     "execution_count": 18,
     "metadata": {},
     "output_type": "execute_result"
    }
   ],
   "source": [
    "tensor_arr"
   ]
  },
  {
   "cell_type": "code",
   "execution_count": 19,
   "id": "c6f68cb1",
   "metadata": {},
   "outputs": [
    {
     "data": {
      "text/plain": [
       "array([  1,   2,   3, 100])"
      ]
     },
     "execution_count": 19,
     "metadata": {},
     "output_type": "execute_result"
    }
   ],
   "source": [
    "arr"
   ]
  },
  {
   "cell_type": "code",
   "execution_count": 20,
   "id": "e97355c9",
   "metadata": {},
   "outputs": [
    {
     "data": {
      "text/plain": [
       "tensor([[1., 1., 1.],\n",
       "        [1., 1., 1.]], dtype=torch.float64)"
      ]
     },
     "execution_count": 20,
     "metadata": {},
     "output_type": "execute_result"
    }
   ],
   "source": [
    "#zeors and ones \n",
    "torch.ones(2,3,dtype = torch.float64)"
   ]
  },
  {
   "cell_type": "code",
   "execution_count": 21,
   "id": "de2474f0",
   "metadata": {},
   "outputs": [
    {
     "data": {
      "text/plain": [
       "tensor([[0., 0.],\n",
       "        [0., 0.],\n",
       "        [0., 0.]], dtype=torch.float64)"
      ]
     },
     "execution_count": 21,
     "metadata": {},
     "output_type": "execute_result"
    }
   ],
   "source": [
    "torch.zeros(3,2,dtype = torch.float64)"
   ]
  },
  {
   "cell_type": "code",
   "execution_count": 22,
   "id": "3ca4f073",
   "metadata": {},
   "outputs": [],
   "source": [
    "#matrices \n",
    "a = torch.tensor(np.arange(0,15).reshape(5,3))"
   ]
  },
  {
   "cell_type": "code",
   "execution_count": 23,
   "id": "3c451abb",
   "metadata": {},
   "outputs": [
    {
     "data": {
      "text/plain": [
       "tensor([[ 0,  1,  2],\n",
       "        [ 3,  4,  5],\n",
       "        [ 6,  7,  8],\n",
       "        [ 9, 10, 11],\n",
       "        [12, 13, 14]])"
      ]
     },
     "execution_count": 23,
     "metadata": {},
     "output_type": "execute_result"
    }
   ],
   "source": [
    "a"
   ]
  },
  {
   "cell_type": "code",
   "execution_count": 24,
   "id": "1b3dfa11",
   "metadata": {},
   "outputs": [],
   "source": [
    "#indexing "
   ]
  },
  {
   "cell_type": "code",
   "execution_count": 25,
   "id": "ea93021d",
   "metadata": {},
   "outputs": [
    {
     "data": {
      "text/plain": [
       "tensor([ 0,  3,  6,  9, 12])"
      ]
     },
     "execution_count": 25,
     "metadata": {},
     "output_type": "execute_result"
    }
   ],
   "source": [
    "a[:,0]"
   ]
  },
  {
   "cell_type": "code",
   "execution_count": 26,
   "id": "e6abddd1",
   "metadata": {},
   "outputs": [
    {
     "data": {
      "text/plain": [
       "tensor([ 2,  5,  8, 11, 14])"
      ]
     },
     "execution_count": 26,
     "metadata": {},
     "output_type": "execute_result"
    }
   ],
   "source": [
    "a[:,-1]"
   ]
  },
  {
   "cell_type": "code",
   "execution_count": 27,
   "id": "d26e4f11",
   "metadata": {},
   "outputs": [
    {
     "data": {
      "text/plain": [
       "tensor([[ 0,  1],\n",
       "        [ 3,  4],\n",
       "        [ 6,  7],\n",
       "        [ 9, 10],\n",
       "        [12, 13]])"
      ]
     },
     "execution_count": 27,
     "metadata": {},
     "output_type": "execute_result"
    }
   ],
   "source": [
    "a[:,0:2]"
   ]
  },
  {
   "cell_type": "markdown",
   "id": "d250f68e",
   "metadata": {},
   "source": [
    "# ARITHMETIC OPERATIONS"
   ]
  },
  {
   "cell_type": "code",
   "execution_count": 28,
   "id": "3966be14",
   "metadata": {},
   "outputs": [],
   "source": [
    "X = torch.tensor([1,2,3],dtype = torch.float)\n",
    "Y = torch.tensor([3,2,1],dtype = torch.float)\n"
   ]
  },
  {
   "cell_type": "code",
   "execution_count": 29,
   "id": "e7e223c0",
   "metadata": {},
   "outputs": [
    {
     "name": "stdout",
     "output_type": "stream",
     "text": [
      "The addition is : tensor([4., 4., 4.])\n"
     ]
    }
   ],
   "source": [
    "print(\"The addition is :\",X+Y)"
   ]
  },
  {
   "cell_type": "code",
   "execution_count": 30,
   "id": "a3a92478",
   "metadata": {},
   "outputs": [
    {
     "data": {
      "text/plain": [
       "tensor([4., 4., 4.])"
      ]
     },
     "execution_count": 30,
     "metadata": {},
     "output_type": "execute_result"
    }
   ],
   "source": [
    "torch.add(X,Y)"
   ]
  },
  {
   "cell_type": "code",
   "execution_count": 31,
   "id": "72697668",
   "metadata": {},
   "outputs": [],
   "source": [
    "#storing the output to another variable \n",
    "Z = torch.zeros(3)"
   ]
  },
  {
   "cell_type": "code",
   "execution_count": 32,
   "id": "2d66003d",
   "metadata": {},
   "outputs": [
    {
     "data": {
      "text/plain": [
       "tensor([4., 4., 4.])"
      ]
     },
     "execution_count": 32,
     "metadata": {},
     "output_type": "execute_result"
    }
   ],
   "source": [
    "torch.add(X,Y,out = Z)"
   ]
  },
  {
   "cell_type": "code",
   "execution_count": 33,
   "id": "8a13b975",
   "metadata": {},
   "outputs": [
    {
     "data": {
      "text/plain": [
       "tensor([4., 4., 4.])"
      ]
     },
     "execution_count": 33,
     "metadata": {},
     "output_type": "execute_result"
    }
   ],
   "source": [
    "Z"
   ]
  },
  {
   "cell_type": "code",
   "execution_count": 34,
   "id": "2ab70bbf",
   "metadata": {},
   "outputs": [],
   "source": [
    "A = torch.tensor([2,5,9],dtype = torch.int)\n",
    "B = torch.tensor([3,2,2],dtype = torch.int)\n"
   ]
  },
  {
   "cell_type": "code",
   "execution_count": 35,
   "id": "46004ca1",
   "metadata": {},
   "outputs": [
    {
     "data": {
      "text/plain": [
       "tensor([ 5,  7, 11], dtype=torch.int32)"
      ]
     },
     "execution_count": 35,
     "metadata": {},
     "output_type": "execute_result"
    }
   ],
   "source": [
    "torch.add(A,B)"
   ]
  },
  {
   "cell_type": "code",
   "execution_count": 36,
   "id": "910804ad",
   "metadata": {},
   "outputs": [
    {
     "data": {
      "text/plain": [
       "tensor(23)"
      ]
     },
     "execution_count": 36,
     "metadata": {},
     "output_type": "execute_result"
    }
   ],
   "source": [
    "torch.add(A,B).sum()"
   ]
  },
  {
   "cell_type": "markdown",
   "id": "0793566d",
   "metadata": {},
   "source": [
    "# Dot product and Matrix Multiplication"
   ]
  },
  {
   "cell_type": "code",
   "execution_count": 37,
   "id": "8cff3bea",
   "metadata": {},
   "outputs": [],
   "source": [
    "A = torch.tensor([2,5,9],dtype = torch.int)\n",
    "B = torch.tensor([3,2,2],dtype = torch.int)"
   ]
  },
  {
   "cell_type": "code",
   "execution_count": 38,
   "id": "8b617834",
   "metadata": {},
   "outputs": [
    {
     "data": {
      "text/plain": [
       "tensor([ 6, 10, 18], dtype=torch.int32)"
      ]
     },
     "execution_count": 38,
     "metadata": {},
     "output_type": "execute_result"
    }
   ],
   "source": [
    "A.mul(B)"
   ]
  },
  {
   "cell_type": "code",
   "execution_count": 39,
   "id": "1e574308",
   "metadata": {},
   "outputs": [
    {
     "data": {
      "text/plain": [
       "tensor(34, dtype=torch.int32)"
      ]
     },
     "execution_count": 39,
     "metadata": {},
     "output_type": "execute_result"
    }
   ],
   "source": [
    "A.dot(B)"
   ]
  },
  {
   "cell_type": "code",
   "execution_count": 40,
   "id": "4a0ea6ea",
   "metadata": {},
   "outputs": [],
   "source": [
    "#Matrix Multiplication"
   ]
  },
  {
   "cell_type": "code",
   "execution_count": 41,
   "id": "ed1596f0",
   "metadata": {},
   "outputs": [],
   "source": [
    "x = torch.tensor([[2,5,9],[1,2,3]],dtype = torch.int)\n",
    "y = torch.tensor([[3,2,2],[1,2,3],[4,5,6]],dtype = torch.int)\n"
   ]
  },
  {
   "cell_type": "code",
   "execution_count": 42,
   "id": "a0ba2505",
   "metadata": {},
   "outputs": [
    {
     "data": {
      "text/plain": [
       "tensor([[47, 59, 73],\n",
       "        [17, 21, 26]], dtype=torch.int32)"
      ]
     },
     "execution_count": 42,
     "metadata": {},
     "output_type": "execute_result"
    }
   ],
   "source": [
    "torch.matmul(x,y)"
   ]
  },
  {
   "cell_type": "code",
   "execution_count": 43,
   "id": "0609e7ca",
   "metadata": {},
   "outputs": [
    {
     "data": {
      "text/plain": [
       "tensor([[47, 59, 73],\n",
       "        [17, 21, 26]], dtype=torch.int32)"
      ]
     },
     "execution_count": 43,
     "metadata": {},
     "output_type": "execute_result"
    }
   ],
   "source": [
    "torch.mm(x,y)"
   ]
  },
  {
   "cell_type": "code",
   "execution_count": 44,
   "id": "0d41c45c",
   "metadata": {},
   "outputs": [
    {
     "data": {
      "text/plain": [
       "tensor([[47, 59, 73],\n",
       "        [17, 21, 26]], dtype=torch.int32)"
      ]
     },
     "execution_count": 44,
     "metadata": {},
     "output_type": "execute_result"
    }
   ],
   "source": [
    "x@y"
   ]
  },
  {
   "cell_type": "code",
   "execution_count": null,
   "id": "75c68fb2",
   "metadata": {},
   "outputs": [],
   "source": []
  },
  {
   "cell_type": "code",
   "execution_count": null,
   "id": "14aa9fd3",
   "metadata": {},
   "outputs": [],
   "source": []
  }
 ],
 "metadata": {
  "kernelspec": {
   "display_name": "Python 3 (ipykernel)",
   "language": "python",
   "name": "python3"
  },
  "language_info": {
   "codemirror_mode": {
    "name": "ipython",
    "version": 3
   },
   "file_extension": ".py",
   "mimetype": "text/x-python",
   "name": "python",
   "nbconvert_exporter": "python",
   "pygments_lexer": "ipython3",
   "version": "3.8.13"
  }
 },
 "nbformat": 4,
 "nbformat_minor": 5
}
